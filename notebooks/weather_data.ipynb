{
 "cells": [
  {
   "cell_type": "code",
   "execution_count": null,
   "metadata": {},
   "outputs": [],
   "source": [
    "def missing_weather(df):\n",
    "\n",
    "    # Check for missing values\n",
    "    missing_values = df.isna()\n",
    "\n",
    "    # If there are missing values, print their locations\n",
    "    if missing_values.any().any():\n",
    "        print(\"⚠️ Missing values found at these locations:\")\n",
    "    \n",
    "        # Iterate over the DataFrame to find exact locations\n",
    "        for row, col in zip(*missing_values.to_numpy().nonzero()):\n",
    "            print(f\"Missing value at Row {row}, Column '{df.columns[col]}'\")\n",
    "    else:\n",
    "        print(\"No missing values found in the weather data! \\n\")"
   ]
  },
  {
   "cell_type": "code",
   "execution_count": null,
   "metadata": {},
   "outputs": [],
   "source": []
  }
 ],
 "metadata": {
  "kernelspec": {
   "display_name": "base",
   "language": "python",
   "name": "python3"
  },
  "language_info": {
   "codemirror_mode": {
    "name": "ipython",
    "version": 3
   },
   "file_extension": ".py",
   "mimetype": "text/x-python",
   "name": "python",
   "nbconvert_exporter": "python",
   "pygments_lexer": "ipython3",
   "version": "3.12.7"
  }
 },
 "nbformat": 4,
 "nbformat_minor": 2
}
