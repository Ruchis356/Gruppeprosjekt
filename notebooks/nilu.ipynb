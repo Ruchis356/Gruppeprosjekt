{
 "cells": [
  {
   "cell_type": "code",
   "execution_count": null,
   "metadata": {},
   "outputs": [
    {
     "name": "stdout",
     "output_type": "stream",
     "text": [
      "Feil: Filen '\\GitHub\\Gruppeprosjekt\\Data\\luftkvalitet_trondheim_dag.csv' ble ikke funnet. Sjekk filstien.\n"
     ]
    },
    {
     "ename": "NameError",
     "evalue": "name 'luftkvalitet_df' is not defined",
     "output_type": "error",
     "traceback": [
      "\u001b[0;31m---------------------------------------------------------------------------\u001b[0m",
      "\u001b[0;31mNameError\u001b[0m                                 Traceback (most recent call last)",
      "Cell \u001b[0;32mIn[4], line 58\u001b[0m\n\u001b[1;32m     55\u001b[0m pd\u001b[38;5;241m.\u001b[39mset_option(\u001b[38;5;124m'\u001b[39m\u001b[38;5;124mdisplay.width\u001b[39m\u001b[38;5;124m'\u001b[39m, \u001b[38;5;28;01mNone\u001b[39;00m)\n\u001b[1;32m     57\u001b[0m \u001b[38;5;66;03m#Vis hele dataframe\u001b[39;00m\n\u001b[0;32m---> 58\u001b[0m display(luftkvalitet_df)\n",
      "\u001b[0;31mNameError\u001b[0m: name 'luftkvalitet_df' is not defined"
     ]
    }
   ],
   "source": [
    "import pandas as pd\n",
    "\n",
    "# Les CSV-filen fra NILU\n",
    "file_path = 'Gruppeprosjekt\\\\Data\\\\luftkvalitet_trondheim_dag.csv'  # Bytt ut med filstien til din CSV-fil\n",
    "\n",
    "try:\n",
    "    # Les inn filen og hopp over de første 6 radene (beskrivende tekst)\n",
    "    luftkvalitet_df = pd.read_csv(\n",
    "        file_path,\n",
    "        skiprows=3,  # Hopp over de første 6 radene\n",
    "        sep=';',  # Skilletegn er komma\n",
    "        encoding='utf-8',  # Encoding er UTF-8\n",
    "        on_bad_lines='skip'  # Hopp over ufullstendige rader\n",
    "    )\n",
    "    \n",
    "    # Vis de første radene for å sjekke at dataene er lest inn riktig\n",
    "    print(\"Første rader av datasettet:\")\n",
    "    print(luftkvalitet_df.head())\n",
    "\n",
    "    # Sjekk antall rader og kolonner\n",
    "    print(\"\\nAntall rader og kolonner i datasettet:\")\n",
    "    print(luftkvalitet_df.shape)\n",
    "\n",
    "    # Konverter 'Tid'-kolonnen til datetime-format\n",
    "    luftkvalitet_df['Tid'] = pd.to_datetime(luftkvalitet_df['Tid'], format='%d.%m.%Y %H:%M')\n",
    "\n",
    "    # Sett 'Tid' som indeks\n",
    "    luftkvalitet_df.set_index('Tid', inplace=True)\n",
    "\n",
    "    # Erstatt tomme verdier med NaN\n",
    "    luftkvalitet_df.replace('', pd.NA, inplace=True)\n",
    "\n",
    "    # Konverter alle kolonner til numeriske verdier (hvis mulig)\n",
    "    luftkvalitet_df = luftkvalitet_df.apply(pd.to_numeric, errors='ignore')\n",
    "\n",
    "        # Vis statistikk for datasettet\n",
    "    print(\"\\nStatistikk for datasettet:\")\n",
    "    print(luftkvalitet_df.describe())\n",
    "\n",
    "    # Lagre de behandlede dataene til en ny CSV-fil\n",
    "    output_file_path = 'behandlet_luftkvalitet_trondheim.csv'\n",
    "    luftkvalitet_df.to_csv(output_file_path)\n",
    "    print(f\"\\nBehandlede data lagret til {output_file_path}\")\n",
    "\n",
    "except FileNotFoundError:\n",
    "    print(f\"Feil: Filen '{file_path}' ble ikke funnet. Sjekk filstien.\")\n",
    "except pd.errors.ParserError:\n",
    "    print(\"Feil: Kunne ikke lese CSV-filen. Sjekk skilletegn og encoding.\")\n",
    "except Exception as e:\n",
    "    print(f\"En uventet feil oppstod: {e}\")\n",
    "\n",
    "#Endrer pandas til å vise hele dataframe \n",
    "pd.set_option('display.max_rows', None)\n",
    "pd.set_option('display.max_columns', None)\n",
    "pd.set_option('display.width', None)\n",
    "\n",
    "#Vis hele dataframe\n",
    "display(luftkvalitet_df)"
   ]
  },
  {
   "cell_type": "code",
   "execution_count": null,
   "metadata": {},
   "outputs": [],
   "source": []
  }
 ],
 "metadata": {
  "kernelspec": {
   "display_name": "base",
   "language": "python",
   "name": "python3"
  },
  "language_info": {
   "codemirror_mode": {
    "name": "ipython",
    "version": 3
   },
   "file_extension": ".py",
   "mimetype": "text/x-python",
   "name": "python",
   "nbconvert_exporter": "python",
   "pygments_lexer": "ipython3",
   "version": "3.12.7"
  }
 },
 "nbformat": 4,
 "nbformat_minor": 2
}
