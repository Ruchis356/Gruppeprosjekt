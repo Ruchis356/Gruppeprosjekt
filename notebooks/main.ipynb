{
 "cells": [
  {
   "cell_type": "code",
   "execution_count": null,
   "metadata": {},
   "outputs": [],
   "source": [
    "# ------------------------------------------\n",
    "# FORMATTING OF DATAFRAME VISUALISATION\n",
    "# ------------------------------------------\n",
    "import pandas as pd\n",
    "\n",
    "# A function to make pandas show an entire dataframe in a readable manner\n",
    "def pretty_data(df):\n",
    "    pd.set_option('display.max_rows', None)\n",
    "    pd.set_option('display.max_columns', None)\n",
    "    pd.set_option('display.width', None)\n",
    "    display(df)\n"
   ]
  },
  {
   "cell_type": "code",
   "execution_count": 1,
   "metadata": {},
   "outputs": [
    {
     "name": "stdout",
     "output_type": "stream",
     "text": [
      "Data collected from frost.met.no!\n",
      "There are  245 lines of data in this dataframe.\n",
      "\n",
      "No missing values found in the weather data! \n",
      "\n"
     ]
    },
    {
     "data": {
      "text/plain": [
       "'Fjern # under for å se datasettet'"
      ]
     },
     "execution_count": 1,
     "metadata": {},
     "output_type": "execute_result"
    }
   ],
   "source": [
    "# ------------------------------------------\n",
    "# WEATHER DATA - IMPORT AND PROCESSING\n",
    "# ------------------------------------------\n",
    "\n",
    "# Variables that can be changed from run to run for the weather data\n",
    "weather_time = '2024-01-30/2024-03-19' # The stretch of time to fetch weather data for\n",
    "weather_station = 'SN68860' # The ID of the weather station to fetch data from, can be multiple stations separated by a comma - 'SN68860' is Voll weatherstation\n",
    "weather_elements = 'mean(air_temperature P1D),sum(precipitation_amount P1D),mean(wind_speed P1D)' # The measurements to include in the dataset, here: temperautre, precipitation, and wind speed\n",
    "weather_resolution = 'P1D' # The level of granularity in the weather data. P1D is once per day. P1H is once per hour.\n",
    "\n",
    "# Run the module for importing the weather data, and save it to a dataframe\n",
    "%run met.ipynb\n",
    "df_weather = get_met()\n",
    "\n",
    "# Run the module for cleaning up and checking the weather data\n",
    "'''Per nå sjekker den bare om det mangler data noe sted'''\n",
    "%run weather_data.ipynb\n",
    "missing_weather(df_weather)\n",
    "\n",
    "# Displaying the weather data as a table\n",
    "'''Fjern # under for å se datasettet'''\n",
    "#pretty_data(df_weather)"
   ]
  },
  {
   "cell_type": "code",
   "execution_count": 2,
   "metadata": {},
   "outputs": [
    {
     "name": "stdout",
     "output_type": "stream",
     "text": [
      "Data collected from nilu.com!\n",
      "There are  367 lines of data in this dataframe.\n",
      "\n"
     ]
    },
    {
     "data": {
      "text/plain": [
       "'Fjern # under for å se datasettet'"
      ]
     },
     "execution_count": 2,
     "metadata": {},
     "output_type": "execute_result"
    }
   ],
   "source": [
    "# ------------------------------------------\n",
    "# AIR QUALITY DATA - IMPORT AND PROCESSING\n",
    "# ------------------------------------------\n",
    "\n",
    "# Variables that can be changed from run to run for the air quality data\n",
    "threshold = 95 # The threshold below which we will not use the data for analysis (uptime % of day)\n",
    "file_path = 'luftkvalitet_trondheim_dag.csv' #Choose the file to get air quality data from\n",
    "\n",
    "# Run the module for importing the air quality data, and save it to a dataframe\n",
    "%run nilu.ipynb\n",
    "df_quality = get_nilu()\n",
    "\n",
    "# Run the module for cleaning up and checking the air quality data\n",
    "'''Per nå sjekker den bare hvilke rader som har for dårlig dekning til å brukes i analyse '''\n",
    "%run air_data.ipynb\n",
    "exclude_data=show_zeroes(df_quality)\n",
    "\n",
    "# Displaying the air quality data as a table\n",
    "'''Fjern # under for å se datasettet'''\n",
    "#pretty_data(df_quality)"
   ]
  },
  {
   "cell_type": "code",
   "execution_count": 3,
   "metadata": {},
   "outputs": [
    {
     "data": {
      "text/plain": [
       "'Fjern # foran de linjene under som kjører en print funksjon, for å se om det virker :)'"
      ]
     },
     "execution_count": 3,
     "metadata": {},
     "output_type": "execute_result"
    }
   ],
   "source": [
    "# *** EVERYTHING below this line is purely for local testing purposes of this specific file ***\n",
    "'''Fjern # foran de linjene under som kjører en print funksjon, for å se om det virker :)'''\n",
    "\n",
    "    # Print the first bit of the weather data to confirm the function is working\n",
    "#print(df_weather.head())\n",
    "\n",
    "    # Print the index list of the excluded air quality data:\n",
    "#print('Rows with poor or no coverage can be found at the following rows: \\n',exclude_data)"
   ]
  }
 ],
 "metadata": {
  "kernelspec": {
   "display_name": "base",
   "language": "python",
   "name": "python3"
  },
  "language_info": {
   "codemirror_mode": {
    "name": "ipython",
    "version": 3
   },
   "file_extension": ".py",
   "mimetype": "text/x-python",
   "name": "python",
   "nbconvert_exporter": "python",
   "pygments_lexer": "ipython3",
   "version": "3.12.7"
  }
 },
 "nbformat": 4,
 "nbformat_minor": 2
}
