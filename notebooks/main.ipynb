{
 "cells": [
  {
   "cell_type": "code",
   "execution_count": 17,
   "metadata": {},
   "outputs": [
    {
     "name": "stdout",
     "output_type": "stream",
     "text": [
      "Data collected from frost.met.no!\n",
      "                       elementId  value  unit  \\\n",
      "0      mean(air_temperature P1D)    4.2  degC   \n",
      "1      mean(air_temperature P1D)    2.5  degC   \n",
      "2  sum(precipitation_amount P1D)    0.0    mm   \n",
      "3  sum(precipitation_amount P1D)    0.0    mm   \n",
      "4           mean(wind_speed P1D)    2.8   m/s   \n",
      "\n",
      "                                               level timeOffset  \\\n",
      "0  {'levelType': 'height_above_ground', 'unit': '...       PT0H   \n",
      "1  {'levelType': 'height_above_ground', 'unit': '...       PT6H   \n",
      "2                                                NaN      PT18H   \n",
      "3                                                NaN       PT6H   \n",
      "4  {'levelType': 'height_above_ground', 'unit': '...       PT0H   \n",
      "\n",
      "  timeResolution  timeSeriesId performanceCategory exposureCategory  \\\n",
      "0            P1D             0                   C                2   \n",
      "1            P1D             0                   C                2   \n",
      "2            P1D             0                   C                2   \n",
      "3            P1D             0                   C                2   \n",
      "4            P1D             0                   C                2   \n",
      "\n",
      "   qualityCode             referenceTime   sourceId  \n",
      "0          0.0  2024-03-18T00:00:00.000Z  SN68860:0  \n",
      "1          NaN  2024-03-18T00:00:00.000Z  SN68860:0  \n",
      "2          NaN  2024-03-18T00:00:00.000Z  SN68860:0  \n",
      "3          0.0  2024-03-18T00:00:00.000Z  SN68860:0  \n",
      "4          2.0  2024-03-18T00:00:00.000Z  SN68860:0  \n"
     ]
    }
   ],
   "source": [
    "#Run the module for importing the weather data, and save it to a dataframe\n",
    "%run met.ipynb\n",
    "df_weather=get_met()\n",
    "\n",
    "\n",
    "#Testing\n",
    "print(df_weather.head())"
   ]
  }
 ],
 "metadata": {
  "kernelspec": {
   "display_name": "base",
   "language": "python",
   "name": "python3"
  },
  "language_info": {
   "codemirror_mode": {
    "name": "ipython",
    "version": 3
   },
   "file_extension": ".py",
   "mimetype": "text/x-python",
   "name": "python",
   "nbconvert_exporter": "python",
   "pygments_lexer": "ipython3",
   "version": "3.12.7"
  }
 },
 "nbformat": 4,
 "nbformat_minor": 2
}
