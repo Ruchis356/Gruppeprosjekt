{
 "cells": [
  {
   "cell_type": "code",
   "execution_count": 27,
   "metadata": {},
   "outputs": [
    {
     "name": "stdout",
     "output_type": "stream",
     "text": [
      "Data collected from frost.met.no! \n",
      "\n",
      "No missing values found!\n"
     ]
    },
    {
     "ename": "TypeError",
     "evalue": "pretty_weather_data() takes 0 positional arguments but 1 was given",
     "output_type": "error",
     "traceback": [
      "\u001b[0;31m---------------------------------------------------------------------------\u001b[0m",
      "\u001b[0;31mTypeError\u001b[0m                                 Traceback (most recent call last)",
      "Cell \u001b[0;32mIn[27], line 18\u001b[0m\n\u001b[1;32m      7\u001b[0m missing_weather(df_weather)\n\u001b[1;32m     12\u001b[0m \u001b[38;5;66;03m# *** EVERYTHING below this line is purely for local testing purposes of this specific file ***\u001b[39;00m\n\u001b[1;32m     13\u001b[0m \n\u001b[1;32m     14\u001b[0m     \u001b[38;5;66;03m# Print the first bit of the weather data to confirm the function is working\u001b[39;00m\n\u001b[1;32m     15\u001b[0m \u001b[38;5;66;03m#print(df_weather.head())\u001b[39;00m\n\u001b[1;32m     16\u001b[0m \n\u001b[1;32m     17\u001b[0m     \u001b[38;5;66;03m# Print the more readable version of the weather data if needed\u001b[39;00m\n\u001b[0;32m---> 18\u001b[0m print_weather\u001b[38;5;241m=\u001b[39mpretty_weather_data(df_weather)\n\u001b[1;32m     19\u001b[0m \u001b[38;5;28mprint\u001b[39m(print_weather)\n",
      "\u001b[0;31mTypeError\u001b[0m: pretty_weather_data() takes 0 positional arguments but 1 was given"
     ]
    }
   ],
   "source": [
    "# Run the module for importing the weather data, and save it to a dataframe\n",
    "%run met.ipynb\n",
    "df_weather=get_met()\n",
    "\n",
    "# Run the module for cleaning up and do the first pass of the weather data\n",
    "%run weather_data.ipynb\n",
    "missing_weather(df_weather)\n",
    "\n",
    "\n",
    "\n",
    "\n",
    "# *** EVERYTHING below this line is purely for local testing purposes of this specific file ***\n",
    "\n",
    "    # Print the first bit of the weather data to confirm the function is working\n",
    "#print(df_weather.head())\n",
    "\n",
    "    # Print the more readable version of the weather data if needed\n",
    "print_weather=pretty_weather_data(df_weather)\n",
    "print(print_weather)"
   ]
  }
 ],
 "metadata": {
  "kernelspec": {
   "display_name": "base",
   "language": "python",
   "name": "python3"
  },
  "language_info": {
   "codemirror_mode": {
    "name": "ipython",
    "version": 3
   },
   "file_extension": ".py",
   "mimetype": "text/x-python",
   "name": "python",
   "nbconvert_exporter": "python",
   "pygments_lexer": "ipython3",
   "version": "3.12.7"
  }
 },
 "nbformat": 4,
 "nbformat_minor": 2
}
