{
 "cells": [
  {
   "cell_type": "code",
   "execution_count": 1,
   "metadata": {},
   "outputs": [
    {
     "data": {
      "text/plain": [
       "'\\nFunctions within the class RawData, with arguments:\\n\\n    get_met(\\n        self, \\n        weather_station, \\n        weather_elements, \\n        weather_time, \\n        weather_resolution\\n        )\\n\\n    get_nilu(\\n        self, \\n        threshold, \\n        file_path\\n        )\\n\\nFunctions within the class RefinedData, with arguments:\\n\\n    missing_data(\\n        self, \\n        df, \\n        strategy, \\n        fill_value\\n        )\\n        \\n    show_zeroes(\\n        self, \\n        df\\n        )\\n'"
      ]
     },
     "execution_count": 1,
     "metadata": {},
     "output_type": "execute_result"
    }
   ],
   "source": [
    "# ------------------------------------------\n",
    "# IMPORT AND SETUP\n",
    "# ------------------------------------------\n",
    "\n",
    "import sys, os\n",
    "import pandas as pd\n",
    "\n",
    "sys.path.insert(0, os.path.abspath(os.path.join(os.getcwd(), '..', 'src')))\n",
    "\n",
    "#Import the class RawData\n",
    "from data_import import RawData\n",
    "raw_data = RawData()\n",
    "\n",
    "#Import the class RefinedData\n",
    "from data_handling import RefinedData\n",
    "ref_data = RefinedData()\n",
    "\n",
    "#Import the class VisualTable\n",
    "from utils import VisualTable\n",
    "pretty_table = VisualTable()\n",
    "\n",
    "\"\"\"\n",
    "Functions within the class RawData, with arguments:\n",
    "\n",
    "    get_met(\n",
    "        self, \n",
    "        weather_station, \n",
    "        weather_elements, \n",
    "        weather_time, \n",
    "        weather_resolution\n",
    "        )\n",
    "\n",
    "    get_nilu(\n",
    "        self, \n",
    "        threshold, \n",
    "        file_path\n",
    "        )\n",
    "\n",
    "Functions within the class RefinedData, with arguments:\n",
    "\n",
    "    missing_data(\n",
    "        self, \n",
    "        df, \n",
    "        strategy, \n",
    "        fill_value\n",
    "        )\n",
    "        \n",
    "    show_zeroes(\n",
    "        self, \n",
    "        df\n",
    "        )\n",
    "\"\"\""
   ]
  },
  {
   "cell_type": "code",
   "execution_count": null,
   "metadata": {},
   "outputs": [
    {
     "name": "stdout",
     "output_type": "stream",
     "text": [
      "Data collected from frost.met.no!\n",
      "There are  245 lines of data in this dataframe.\n",
      "\n",
      "No missing values found in the data set! \n",
      "\n"
     ]
    }
   ],
   "source": [
    "# ------------------------------------------\n",
    "# WEATHER DATA - IMPORT AND PROCESSING\n",
    "# ------------------------------------------\n",
    "\n",
    "# Variables that can be changed from run to run for the weather data\n",
    "weather_station = 'SN68860' # The ID of the weather station to fetch data from, can be multiple stations separated by a comma - 'SN68860' is Voll weatherstation\n",
    "weather_elements = 'mean(air_temperature P1D),sum(precipitation_amount P1D),mean(wind_speed P1D)' # The measurements to include in the dataset, here: temperautre, precipitation, and wind speed\n",
    "weather_time = '2024-01-30/2024-03-19' # The stretch of time to fetch weather data for\n",
    "weather_resolution = 'P1D' # The level of granularity in the weather data. P1D is once per day. P1H is once per hour.\n",
    "\n",
    "# Run the module for importing the weather data, and save it to a dataframe\n",
    "df_weather = raw_data.get_met(weather_station, weather_elements, weather_time, weather_resolution)\n",
    "\n",
    "# Temporary weather data for when the API is down\n",
    "'''df_weather = pd.DataFrame({\n",
    "    'referenceTime': ['2024-01-30', '2024-01-31', '2024-02-01'],\n",
    "    'Temperature': [10, 15, 11],\n",
    "    'Precipitation': [0, 5, 2],\n",
    "    'Wind_Speed': [3, 7, 2]\n",
    "})'''\n",
    "\n",
    "# Check if data was fetched successfully and check for missing values\n",
    "if df_weather is None:\n",
    "    print(\"Failed to fetch weather data.\")\n",
    "else:\n",
    "    # Report missing values as a dataframe\n",
    "    missing_df = ref_data.missing_data(df_weather, strategy='report')\n",
    "    if missing_df is not None:\n",
    "        print(\"Missing values found at these locations:\")\n",
    "        pretty_table.pretty_data(missing_df)\n",
    "\n",
    "    # Dataframe without the rows containing missing values\n",
    "    '''cleaned_df = ref_data.missing_data(df_weather, strategy='drop')\n",
    "    if cleaned_df is not None:\n",
    "        print(\"DataFrame after dropping missing values:\")\n",
    "        pretty_table.pretty_data(cleaned_df)'''\n",
    "\n",
    "    # Fill missing values with chosen fill_value\n",
    "    '''filled_df = ref_data.missing_data(df_weather, strategy='fill', fill_value=None)\n",
    "    if filled_df is not None:\n",
    "        print(\"DataFrame after filling missing values:\")\n",
    "        pretty_table.pretty_data(filled_df)'''\n",
    "\n",
    "# Displaying the weather data as a table\n",
    "#pretty_table.pretty_data(df_weather)"
   ]
  },
  {
   "cell_type": "code",
   "execution_count": 6,
   "metadata": {},
   "outputs": [
    {
     "name": "stdout",
     "output_type": "stream",
     "text": [
      "Data collected from nilu.com!\n",
      "There are  367 lines of data in this dataframe.\n",
      "\n",
      "Missing values found in the data set! \n",
      "\n",
      "The following datapoints are missing:\n",
      "These datapoints contain no data or data of too poor quality:\n"
     ]
    }
   ],
   "source": [
    "# ------------------------------------------\n",
    "# AIR QUALITY DATA - IMPORT AND PROCESSING\n",
    "# ------------------------------------------\n",
    "\n",
    "# Variables that can be changed from run to run for the air quality data\n",
    "threshold = 95 # The threshold below which we will not use the data for analysis (uptime % of day)\n",
    "file_path = '../Data/luftkvalitet_trondheim_dag.csv' #Choose the file to get air quality data from\n",
    "\n",
    "# Run the module for importing the air quality data, and save it to a dataframe\n",
    "df_quality = raw_data.get_nilu(threshold, file_path)\n",
    "\n",
    "# Check if data was fetched successfully and check for missing values\n",
    "if df_quality is None:\n",
    "    print(\"Failed to fetch weather data.\")\n",
    "else:\n",
    "    missing_data = ref_data.missing_data(df_quality)\n",
    "    if missing_data is not None:\n",
    "        print(\"The following datapoints are missing:\")\n",
    "        #pretty_table.pretty_data(missing_data)\n",
    "    else:\n",
    "        pass\n",
    "\n",
    "poor_quality_data = ref_data.show_zeroes(df_quality)\n",
    "print('These datapoints contain no data or data of too poor quality:')\n",
    "#pretty_table.pretty_data(poor_quality_data)\n",
    "\n",
    "# Displaying the air quality data as a table\n",
    "#pretty_table.pretty_data(df_quality)"
   ]
  }
 ],
 "metadata": {
  "kernelspec": {
   "display_name": "base",
   "language": "python",
   "name": "python3"
  },
  "language_info": {
   "codemirror_mode": {
    "name": "ipython",
    "version": 3
   },
   "file_extension": ".py",
   "mimetype": "text/x-python",
   "name": "python",
   "nbconvert_exporter": "python",
   "pygments_lexer": "ipython3",
   "version": "3.12.7"
  }
 },
 "nbformat": 4,
 "nbformat_minor": 2
}
