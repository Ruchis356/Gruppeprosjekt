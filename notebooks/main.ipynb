{
 "cells": [
  {
   "cell_type": "code",
   "execution_count": null,
   "metadata": {},
   "outputs": [
    {
     "data": {
      "text/plain": [
       "'\\nFunctions within the class RawData, with arguments:\\n    get_met(self, weather_station, weather_elements, weather_time, weather_resolution)\\n    get_nilu(self, threshold, file_path)\\n\\nFunctions within the class RefinedData, with arguments:\\n    missing_data(self, df)\\n    show_zeroes(self, df)\\n'"
      ]
     },
     "execution_count": 3,
     "metadata": {},
     "output_type": "execute_result"
    }
   ],
   "source": [
    "# ------------------------------------------\n",
    "# IMPORT AND SETUP\n",
    "# ------------------------------------------\n",
    "\n",
    "import sys, os\n",
    "import pandas as pd\n",
    "\n",
    "sys.path.insert(0, os.path.abspath(os.path.join(os.getcwd(), '..', 'src')))\n",
    "\n",
    "#Import the class RawData\n",
    "from data_import import RawData\n",
    "raw_data = RawData()\n",
    "\n",
    "#Import the class RefinedData\n",
    "from data_handling import RefinedData\n",
    "ref_data = RefinedData()\n",
    "\n",
    "#Import the class VisualData\n",
    "from utils import VisualData\n",
    "pretty_data = VisualData()\n",
    "\n",
    "\"\"\"\n",
    "Functions within the class RawData, with arguments:\n",
    "    get_met(self, weather_station, weather_elements, weather_time, weather_resolution)\n",
    "    get_nilu(self, threshold, file_path)\n",
    "\n",
    "Functions within the class RefinedData, with arguments:\n",
    "    missing_data(self, df)\n",
    "    show_zeroes(self, df)\n",
    "\"\"\""
   ]
  },
  {
   "cell_type": "code",
   "execution_count": null,
   "metadata": {},
   "outputs": [],
   "source": [
    "'''# ------------------------------------------\n",
    "# FORMATTING OF DATAFRAME VISUALISATION\n",
    "# ------------------------------------------\n",
    "\n",
    "# A function to make pandas show an entire dataframe in a readable manner\n",
    "def pretty_data(df):\n",
    "    pd.set_option('display.max_rows', None)\n",
    "    pd.set_option('display.max_columns', None)\n",
    "    pd.set_option('display.width', None)\n",
    "    display(df)'''"
   ]
  },
  {
   "cell_type": "code",
   "execution_count": null,
   "metadata": {},
   "outputs": [
    {
     "name": "stdout",
     "output_type": "stream",
     "text": [
      "Data collected from frost.met.no!\n",
      "There are  245 lines of data in this dataframe.\n",
      "\n",
      "No missing values found in the data set! \n",
      "\n"
     ]
    }
   ],
   "source": [
    "# ------------------------------------------\n",
    "# WEATHER DATA - IMPORT AND PROCESSING\n",
    "# ------------------------------------------\n",
    "\n",
    "# Variables that can be changed from run to run for the weather data\n",
    "weather_station = 'SN68860' # The ID of the weather station to fetch data from, can be multiple stations separated by a comma - 'SN68860' is Voll weatherstation\n",
    "weather_elements = 'mean(air_temperature P1D),sum(precipitation_amount P1D),mean(wind_speed P1D)' # The measurements to include in the dataset, here: temperautre, precipitation, and wind speed\n",
    "weather_time = '2024-01-30/2024-03-19' # The stretch of time to fetch weather data for\n",
    "weather_resolution = 'P1D' # The level of granularity in the weather data. P1D is once per day. P1H is once per hour.\n",
    "\n",
    "# Run the module for importing the weather data, and save it to a dataframe\n",
    "df_weather = raw_data.get_met(weather_station, weather_elements, weather_time, weather_resolution)\n",
    "\n",
    "# Check if data was fetched successfully and check for missing values\n",
    "if df_weather is None:\n",
    "    print(\"Failed to fetch weather data.\")\n",
    "else:\n",
    "    missing_data = ref_data.missing_data(df_weather)\n",
    "    if missing_data is not None:\n",
    "        print(missing_data)\n",
    "    else:\n",
    "        pass\n",
    "\n",
    "# Displaying the weather data as a table\n",
    "pretty_data(df_weather)"
   ]
  },
  {
   "cell_type": "code",
   "execution_count": null,
   "metadata": {},
   "outputs": [
    {
     "name": "stdout",
     "output_type": "stream",
     "text": [
      "Data collected from nilu.com!\n",
      "There are  367 lines of data in this dataframe.\n",
      "\n",
      "The following datapoints are missing:\n",
      "These rows contain no data or data of too poor quality:\n"
     ]
    }
   ],
   "source": [
    "# ------------------------------------------\n",
    "# AIR QUALITY DATA - IMPORT AND PROCESSING\n",
    "# ------------------------------------------\n",
    "\n",
    "# Variables that can be changed from run to run for the air quality data\n",
    "threshold = 95 # The threshold below which we will not use the data for analysis (uptime % of day)\n",
    "file_path = '../Data/luftkvalitet_trondheim_dag.csv' #Choose the file to get air quality data from\n",
    "\n",
    "# Run the module for importing the air quality data, and save it to a dataframe\n",
    "df_quality = raw_data.get_nilu(threshold, file_path)\n",
    "\n",
    "# Check if data was fetched successfully and check for missing values\n",
    "if df_quality is None:\n",
    "    print(\"Failed to fetch weather data.\")\n",
    "else:\n",
    "    missing_data = ref_data.missing_data(df_quality)\n",
    "    if missing_data is not None:\n",
    "        print(\"The following datapoints are missing:\")\n",
    "        #pretty_data(missing_data)\n",
    "    else:\n",
    "        pass\n",
    "\n",
    "poor_quality_data = ref_data.show_zeroes(df_quality)\n",
    "print('These datapoints contain no data or data of too poor quality:')\n",
    "#pretty_data(poor_quality_data)\n",
    "\n",
    "# Displaying the air quality data as a table\n",
    "#pretty_data(df_quality)"
   ]
  }
 ],
 "metadata": {
  "kernelspec": {
   "display_name": "base",
   "language": "python",
   "name": "python3"
  },
  "language_info": {
   "codemirror_mode": {
    "name": "ipython",
    "version": 3
   },
   "file_extension": ".py",
   "mimetype": "text/x-python",
   "name": "python",
   "nbconvert_exporter": "python",
   "pygments_lexer": "ipython3",
   "version": "3.12.7"
  }
 },
 "nbformat": 4,
 "nbformat_minor": 2
}
