{
 "cells": [
  {
   "cell_type": "code",
   "execution_count": null,
   "metadata": {},
   "outputs": [
    {
     "data": {
      "text/plain": [
       "'\\nFunctions within the class, with arguments:\\n    get_met(self, weather_station, weather_elements, weather_time, weather_resolution)\\n    get_nilu(self, threshold, file_path)\\n    missing_data(self, df)\\n    show_zeroes(self, df)\\n'"
      ]
     },
     "execution_count": 2,
     "metadata": {},
     "output_type": "execute_result"
    }
   ],
   "source": [
    "# ------------------------------------------\n",
    "# Imports and setup\n",
    "# ------------------------------------------\n",
    "\n",
    "import sys, os\n",
    "import pandas as pd\n",
    "\n",
    "sys.path.insert(0, os.path.abspath(os.path.join(os.getcwd(), '..', 'src')))\n",
    "\n",
    "#Import the class RawData\n",
    "from data_import import RawData\n",
    "raw_data = RawData()\n",
    "\n",
    "#Import the class RefinedData\n",
    "from data_handling import RefinedData\n",
    "ref_data = RefinedData()\n",
    "\n",
    "\n",
    "\"\"\"\n",
    "Functions within the class RawData, with arguments:\n",
    "    get_met(self, weather_station, weather_elements, weather_time, weather_resolution)\n",
    "    get_nilu(self, threshold, file_path)\n",
    "\n",
    "Functions within the class RefinedData, with arguments:\n",
    "    missing_data(self, df)\n",
    "    show_zeroes(self, df)\n",
    "\"\"\""
   ]
  },
  {
   "cell_type": "code",
   "execution_count": 3,
   "metadata": {},
   "outputs": [],
   "source": [
    "# ------------------------------------------\n",
    "# FORMATTING OF DATAFRAME VISUALISATION\n",
    "# ------------------------------------------\n",
    "\n",
    "# A function to make pandas show an entire dataframe in a readable manner\n",
    "def pretty_data(df):\n",
    "    pd.set_option('display.max_rows', None)\n",
    "    pd.set_option('display.max_columns', None)\n",
    "    pd.set_option('display.width', None)\n",
    "    display(df)"
   ]
  },
  {
   "cell_type": "code",
   "execution_count": 4,
   "metadata": {},
   "outputs": [
    {
     "name": "stdout",
     "output_type": "stream",
     "text": [
      "Data collected from frost.met.no!\n",
      "There are  245 lines of data in this dataframe.\n",
      "\n",
      "No missing values found in the data set! \n",
      "\n"
     ]
    }
   ],
   "source": [
    "# ------------------------------------------\n",
    "# WEATHER DATA - IMPORT AND PROCESSING\n",
    "# ------------------------------------------\n",
    "\n",
    "# Variables that can be changed from run to run for the weather data\n",
    "weather_station = 'SN68860' # The ID of the weather station to fetch data from, can be multiple stations separated by a comma - 'SN68860' is Voll weatherstation\n",
    "weather_elements = 'mean(air_temperature P1D),sum(precipitation_amount P1D),mean(wind_speed P1D)' # The measurements to include in the dataset, here: temperautre, precipitation, and wind speed\n",
    "weather_time = '2024-01-30/2024-03-19' # The stretch of time to fetch weather data for\n",
    "weather_resolution = 'P1D' # The level of granularity in the weather data. P1D is once per day. P1H is once per hour.\n",
    "\n",
    "# Run the module for importing the weather data, and save it to a dataframe\n",
    "df_weather = raw_data.get_met(weather_station, weather_elements, weather_time, weather_resolution)\n",
    "\n",
    "# Check if data was fetched successfully and check for missing values\n",
    "if df_weather is None:\n",
    "    print(\"Failed to fetch weather data.\")\n",
    "else:\n",
    "    missing_data = ref_data.missing_data(df_weather)\n",
    "    if missing_data is not None:\n",
    "        print(missing_data)\n",
    "    else:\n",
    "        pass\n",
    "\n",
    "# Displaying the weather data as a table\n",
    "#pretty_data(df_weather)"
   ]
  },
  {
   "cell_type": "code",
   "execution_count": null,
   "metadata": {},
   "outputs": [
    {
     "name": "stdout",
     "output_type": "stream",
     "text": [
      "Data collected from nilu.com!\n",
      "There are  367 lines of data in this dataframe.\n",
      "\n",
      "These datapoints are missing: \n",
      "\n",
      "    index                  column\n",
      "0    107  Elgeseter NO µg/m³ Day \n",
      "\n",
      "These rows contain no data or data of too poor quality: \n",
      "\n",
      " Index([ 18,  29,  50,  57,  79, 107, 108, 109, 110, 111, 112, 113, 114, 115,\n",
      "       116, 117, 118, 119, 142, 156, 163, 185, 191, 203, 204, 205, 228, 229,\n",
      "       230, 231, 232, 233, 234, 235, 269, 272, 275, 276, 277, 278, 279, 280,\n",
      "       281, 282, 283, 284, 285, 286, 287, 288, 289, 290, 291, 292, 293, 294,\n",
      "       295, 296, 297, 298, 299, 300, 301, 302, 303, 304, 305, 306, 307, 308,\n",
      "       309, 310, 311, 312, 313, 314, 315, 316, 317, 318, 319, 320, 321, 322,\n",
      "       323, 324, 343],\n",
      "      dtype='int64') \n",
      "\n"
     ]
    }
   ],
   "source": [
    "# ------------------------------------------\n",
    "# AIR QUALITY DATA - IMPORT AND PROCESSING\n",
    "# ------------------------------------------\n",
    "\n",
    "# Variables that can be changed from run to run for the air quality data\n",
    "threshold = 95 # The threshold below which we will not use the data for analysis (uptime % of day)\n",
    "file_path = '../Data/luftkvalitet_trondheim_dag.csv' #Choose the file to get air quality data from\n",
    "\n",
    "# Run the module for importing the air quality data, and save it to a dataframe\n",
    "df_quality = raw_data.get_nilu(threshold, file_path)\n",
    "\n",
    "# Check if data was fetched successfully and check for missing values\n",
    "if df_quality is None:\n",
    "    print(\"Failed to fetch weather data.\")\n",
    "else:\n",
    "    missing_data = ref_data.missing_data(df_quality)\n",
    "    if missing_data is not None:\n",
    "        print(\"The following datapoints are missing:\\n\")\n",
    "        pretty_data(missing_data)\n",
    "    else:\n",
    "        pass\n",
    "\n",
    "poor_quality_data = ref_data.show_zeroes(df_quality)\n",
    "print('These rows contain no data or data of too poor quality: \\n\\n',poor_quality_data, '\\n')\n",
    "pretty_data(poor_quality_data)\n",
    "\n",
    "# Displaying the air quality data as a table\n",
    "#pretty_data(df_quality)"
   ]
  }
 ],
 "metadata": {
  "kernelspec": {
   "display_name": "base",
   "language": "python",
   "name": "python3"
  },
  "language_info": {
   "codemirror_mode": {
    "name": "ipython",
    "version": 3
   },
   "file_extension": ".py",
   "mimetype": "text/x-python",
   "name": "python",
   "nbconvert_exporter": "python",
   "pygments_lexer": "ipython3",
   "version": "3.12.7"
  }
 },
 "nbformat": 4,
 "nbformat_minor": 2
}
