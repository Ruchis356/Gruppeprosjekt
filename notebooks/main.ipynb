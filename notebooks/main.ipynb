{
 "cells": [
  {
   "cell_type": "code",
   "execution_count": 55,
   "metadata": {},
   "outputs": [
    {
     "data": {
      "text/plain": [
       "'\\nFunctions within the class, with arguments:\\n    get_met(self, weather_station, weather_elements, weather_time, weather_resolution)\\n    get_nilu(self, threshold, file_path)\\n    missing_data(self, df)\\n    show_zeroes(self, df)\\n'"
      ]
     },
     "execution_count": 55,
     "metadata": {},
     "output_type": "execute_result"
    }
   ],
   "source": [
    "# ------------------------------------------\n",
    "# Imports and setup\n",
    "# ------------------------------------------\n",
    "\n",
    "import sys, os\n",
    "import pandas as pd\n",
    "\n",
    "#print(\"Current working directory:\", os.getcwd())\n",
    "\n",
    "sys.path.insert(0, os.path.abspath(os.path.join(os.getcwd(), '..', 'src')))\n",
    "\n",
    "#Import the class EnvironmentalData\n",
    "from data_import import EnvironmentalData\n",
    "env_data=EnvironmentalData()\n",
    "\"\"\"\n",
    "Functions within the class, with arguments:\n",
    "    get_met(self, weather_station, weather_elements, weather_time, weather_resolution)\n",
    "    get_nilu(self, threshold, file_path)\n",
    "    missing_data(self, df)\n",
    "    show_zeroes(self, df)\n",
    "\"\"\""
   ]
  },
  {
   "cell_type": "code",
   "execution_count": 56,
   "metadata": {},
   "outputs": [],
   "source": [
    "# ------------------------------------------\n",
    "# FORMATTING OF DATAFRAME VISUALISATION\n",
    "# ------------------------------------------\n",
    "\n",
    "# A function to make pandas show an entire dataframe in a readable manner\n",
    "def pretty_data(df):\n",
    "    pd.set_option('display.max_rows', None)\n",
    "    pd.set_option('display.max_columns', None)\n",
    "    pd.set_option('display.width', None)\n",
    "    display(df)"
   ]
  },
  {
   "cell_type": "code",
   "execution_count": 57,
   "metadata": {},
   "outputs": [
    {
     "name": "stdout",
     "output_type": "stream",
     "text": [
      "Data collected from frost.met.no!\n",
      "There are  245 lines of data in this dataframe.\n",
      "\n"
     ]
    },
    {
     "ename": "AttributeError",
     "evalue": "'EnvironmentalData' object has no attribute 'missing_data'",
     "output_type": "error",
     "traceback": [
      "\u001b[0;31m---------------------------------------------------------------------------\u001b[0m",
      "\u001b[0;31mAttributeError\u001b[0m                            Traceback (most recent call last)",
      "Cell \u001b[0;32mIn[57], line 18\u001b[0m\n\u001b[1;32m     16\u001b[0m     \u001b[38;5;28mprint\u001b[39m(\u001b[38;5;124m\"\u001b[39m\u001b[38;5;124mFailed to fetch weather data.\u001b[39m\u001b[38;5;124m\"\u001b[39m)\n\u001b[1;32m     17\u001b[0m \u001b[38;5;28;01melse\u001b[39;00m:\n\u001b[0;32m---> 18\u001b[0m     env_data\u001b[38;5;241m.\u001b[39mmissing_data(df_weather)\n\u001b[1;32m     21\u001b[0m \u001b[38;5;66;03m# Run the module for cleaning up and checking the weather data\u001b[39;00m\n\u001b[1;32m     22\u001b[0m \u001b[38;5;124;03m'''Per nå sjekker den bare om det mangler data noe sted'''\u001b[39;00m\n",
      "\u001b[0;31mAttributeError\u001b[0m: 'EnvironmentalData' object has no attribute 'missing_data'"
     ]
    }
   ],
   "source": [
    "# ------------------------------------------\n",
    "# WEATHER DATA - IMPORT AND PROCESSING\n",
    "# ------------------------------------------\n",
    "\n",
    "# Variables that can be changed from run to run for the weather data\n",
    "weather_station = 'SN68860' # The ID of the weather station to fetch data from, can be multiple stations separated by a comma - 'SN68860' is Voll weatherstation\n",
    "weather_elements = 'mean(air_temperature P1D),sum(precipitation_amount P1D),mean(wind_speed P1D)' # The measurements to include in the dataset, here: temperautre, precipitation, and wind speed\n",
    "weather_time = '2024-01-30/2024-03-19' # The stretch of time to fetch weather data for\n",
    "weather_resolution = 'P1D' # The level of granularity in the weather data. P1D is once per day. P1H is once per hour.\n",
    "\n",
    "# Run the module for importing the weather data, and save it to a dataframe\n",
    "df_weather = env_data.get_met(weather_station, weather_elements, weather_time, weather_resolution)\n",
    "\n",
    "# Check if data was fetched successfully\n",
    "if df_weather is None:\n",
    "    print(\"Failed to fetch weather data.\")\n",
    "else:\n",
    "    env_data.missing_data(df_weather)\n",
    "\n",
    "\n",
    "# Run the module for cleaning up and checking the weather data\n",
    "'''Per nå sjekker den bare om det mangler data noe sted'''\n",
    "#%run weather_data.ipynb\n",
    "#missing_weather(df_weather)\n",
    "\n",
    "# Displaying the weather data as a table\n",
    "#pretty_data(df_weather)"
   ]
  },
  {
   "cell_type": "code",
   "execution_count": null,
   "metadata": {},
   "outputs": [
    {
     "name": "stdout",
     "output_type": "stream",
     "text": [
      "Data collected from nilu.com!\n",
      "There are  367 lines of data in this dataframe.\n",
      "\n"
     ]
    },
    {
     "data": {
      "text/plain": [
       "'Per nå sjekker den bare hvilke rader som har for dårlig dekning til å brukes i analyse '"
      ]
     },
     "execution_count": 47,
     "metadata": {},
     "output_type": "execute_result"
    }
   ],
   "source": [
    "# ------------------------------------------\n",
    "# AIR QUALITY DATA - IMPORT AND PROCESSING\n",
    "# ------------------------------------------\n",
    "\n",
    "# Variables that can be changed from run to run for the air quality data\n",
    "threshold = 95 # The threshold below which we will not use the data for analysis (uptime % of day)\n",
    "file_path = '../Data/luftkvalitet_trondheim_dag.csv' #Choose the file to get air quality data from\n",
    "\n",
    "# Run the module for importing the air quality data, and save it to a dataframe\n",
    "df_quality = env_data.get_nilu(threshold, file_path)\n",
    "\n",
    "# Check if data was fetched successfully\n",
    "if df_quality is None:\n",
    "    print(\"Failed to fetch weather data.\")\n",
    "else:\n",
    "    env_data.missing_data(df_quality)\n",
    "\n",
    "# Run the module for cleaning up and checking the air quality data\n",
    "'''Per nå sjekker den bare hvilke rader som har for dårlig dekning til å brukes i analyse '''\n",
    "#%run air_data.ipynb\n",
    "#exclude_data=show_zeroes(df_quality)\n",
    "\n",
    "# Displaying the air quality data as a table\n",
    "#pretty_data(df_quality)"
   ]
  },
  {
   "cell_type": "code",
   "execution_count": null,
   "metadata": {},
   "outputs": [
    {
     "data": {
      "text/plain": [
       "'Fjern # foran de linjene under som kjører en print funksjon, for å se om det virker :)'"
      ]
     },
     "execution_count": 48,
     "metadata": {},
     "output_type": "execute_result"
    }
   ],
   "source": [
    "# *** EVERYTHING below this line is purely for local testing purposes of this specific file ***\n",
    "'''Fjern # foran de linjene under som kjører en print funksjon, for å se om det virker :)'''\n",
    "\n",
    "    # Print the first bit of the weather data to confirm the function is working\n",
    "#print(df_weather.head())\n",
    "\n",
    "    # Print the index list of the excluded air quality data:\n",
    "#print('Rows with poor or no coverage can be found at the following rows: \\n',exclude_data)"
   ]
  }
 ],
 "metadata": {
  "kernelspec": {
   "display_name": "base",
   "language": "python",
   "name": "python3"
  },
  "language_info": {
   "codemirror_mode": {
    "name": "ipython",
    "version": 3
   },
   "file_extension": ".py",
   "mimetype": "text/x-python",
   "name": "python",
   "nbconvert_exporter": "python",
   "pygments_lexer": "ipython3",
   "version": "3.12.7"
  }
 },
 "nbformat": 4,
 "nbformat_minor": 2
}
