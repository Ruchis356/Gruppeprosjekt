{
 "cells": [
  {
   "cell_type": "code",
   "execution_count": null,
   "metadata": {},
   "outputs": [],
   "source": [
    "\n",
    "import pandas as pd\n",
    "\n",
    "def show_zeroes(df):\n",
    "\n",
    "    # Find all data points with a value of 0\n",
    "    zero_values = df[df == 0]\n",
    "\n",
    "    # Show the index numbers of the rows that contain a datapoint 0\n",
    "    rows_with_zero = zero_values.dropna(how='all')\n",
    "\n",
    "    if not rows_with_zero.empty:\n",
    "        return rows_with_zero.index\n",
    "\n",
    "    else:\n",
    "        # If there are no rows, return an empty index\n",
    "        print(\"No coverage was poor enough to be excluded.\")\n",
    "        return pd.Index([])\n"
   ]
  }
 ],
 "metadata": {
  "kernelspec": {
   "display_name": "base",
   "language": "python",
   "name": "python3"
  },
  "language_info": {
   "codemirror_mode": {
    "name": "ipython",
    "version": 3
   },
   "file_extension": ".py",
   "mimetype": "text/x-python",
   "name": "python",
   "nbconvert_exporter": "python",
   "pygments_lexer": "ipython3",
   "version": "3.12.7"
  }
 },
 "nbformat": 4,
 "nbformat_minor": 2
}
