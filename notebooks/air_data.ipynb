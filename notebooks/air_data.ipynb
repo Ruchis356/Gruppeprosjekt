{
 "cells": [
  {
   "cell_type": "code",
   "execution_count": null,
   "metadata": {},
   "outputs": [],
   "source": [
    "# ------------------------------------------\n",
    "# WAIR QUALITY DATA - PROCESSING\n",
    "# ------------------------------------------\n",
    "\n",
    "import pandas as pd\n",
    "\n",
    "def show_zeroes(df):\n",
    "\n",
    "    # Specifying the coverage columns to check\n",
    "    columns_to_check = ['Dekning', 'Dekning.1', 'Dekning.2', 'Dekning.3', 'Dekning.4']\n",
    "\n",
    "    # Find all data points with a value of 0 in those columns\n",
    "    zero_values = df[columns_to_check][df[columns_to_check] == 0]\n",
    "\n",
    "    # Show the index numbers of the rows that contain a datapoint 0 in a coverage column\n",
    "    rows_with_zero = zero_values.dropna(how='all')\n",
    "\n",
    "    if not rows_with_zero.empty:\n",
    "        return rows_with_zero.index\n",
    "\n",
    "    else:\n",
    "        # If there are no rows, return an empty index\n",
    "        print(\"No coverage was poor enough to be excluded.\")\n",
    "        return pd.Index([])\n"
   ]
  }
 ],
 "metadata": {
  "kernelspec": {
   "display_name": "base",
   "language": "python",
   "name": "python3"
  },
  "language_info": {
   "codemirror_mode": {
    "name": "ipython",
    "version": 3
   },
   "file_extension": ".py",
   "mimetype": "text/x-python",
   "name": "python",
   "nbconvert_exporter": "python",
   "pygments_lexer": "ipython3",
   "version": "3.12.7"
  }
 },
 "nbformat": 4,
 "nbformat_minor": 2
}
