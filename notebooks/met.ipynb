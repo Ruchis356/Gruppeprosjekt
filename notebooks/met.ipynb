{
 "cells": [
  {
   "cell_type": "code",
   "execution_count": null,
   "metadata": {},
   "outputs": [],
   "source": [
    "def get_met():\n",
    "    import requests\n",
    "    import pandas as pd\n",
    "\n",
    "    # Clien ID to access data from \n",
    "    client_id = 'd933f861-70f3-4d0f-adc6-b1edb5978a9e'\n",
    "\n",
    "    # Define endpoints and parameters\n",
    "    endpoint = 'https://frost.met.no/observations/v0.jsonld'\n",
    "    parameters = {\n",
    "        'sources': 'SN68860',  # Station ID for Voll weather station\n",
    "        'elements': 'mean(air_temperature P1D),sum(precipitation_amount P1D),mean(wind_speed P1D)',  # Requestion temperautre, precipitation, and wind speed\n",
    "        'referencetime': '2024-02-19/2024-03-19',  # Limiting the time frame for the data request\n",
    "        'timeresolutions': 'P1D',  # Set to 1 day resolution\n",
    "    }\n",
    "\n",
    "    # Send an HTTP GET-request\n",
    "    r = requests.get(endpoint, params=parameters, auth=(client_id, ''))\n",
    "\n",
    "    # Extract JSON-data\n",
    "    json_data = r.json()\n",
    "\n",
    "    # Check if the request was succesfull, and exit if not\n",
    "    if r.status_code == 200:\n",
    "        data = json_data['data']\n",
    "        print('Data collected from frost.met.no!')\n",
    "    else:\n",
    "        print('Error! Statuscode:', r.status_code)\n",
    "        print('Message:', json_data['error']['message'])\n",
    "        print('Cause:', json_data['error']['reason'])\n",
    "        exit()  \n",
    "\n",
    "    # Create and set up the dataframe\n",
    "    df = pd.DataFrame()\n",
    "    for obs in data:\n",
    "        row = pd.DataFrame(obs['observations'])\n",
    "    row['referenceTime'] = obs['referenceTime']\n",
    "    row['sourceId'] = obs['sourceId']\n",
    "    df = pd.concat([df, row], ignore_index=True)\n",
    "\n",
    "    # Show the first few rows of the dataframe\n",
    "#    print(df.head())\n",
    "\n",
    "    # Make pandas show the entire dataframe\n",
    "#    pd.set_option('display.max_rows', None)\n",
    "#    pd.set_option('display.max_columns', None)\n",
    "#    pd.set_option('display.width', None)\n",
    "#    display(df)\n",
    "\n",
    "    #Returns dataframe upon request\n",
    "    return(df)\n",
    "\n",
    "#To run the file locally for testing\n",
    "#get_met()\n",
    "\n",
    "\n"
   ]
  }
 ],
 "metadata": {
  "kernelspec": {
   "display_name": "base",
   "language": "python",
   "name": "python3"
  },
  "language_info": {
   "codemirror_mode": {
    "name": "ipython",
    "version": 3
   },
   "file_extension": ".py",
   "mimetype": "text/x-python",
   "name": "python",
   "nbconvert_exporter": "python",
   "pygments_lexer": "ipython3",
   "version": "3.12.7"
  }
 },
 "nbformat": 4,
 "nbformat_minor": 2
}
